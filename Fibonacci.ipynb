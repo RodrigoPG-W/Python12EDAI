{
 "cells": [
  {
   "cell_type": "code",
   "execution_count": 11,
   "metadata": {},
   "outputs": [
    {
     "data": {
      "text/plain": [
       "13"
      ]
     },
     "execution_count": 11,
     "metadata": {},
     "output_type": "execute_result"
    }
   ],
   "source": [
    "#Implementación de Fibonacci iterativa vista en bottom up:\n",
    "def fibonacci_iterativo_v2(numero):\n",
    "    f1=0\n",
    "    f2=1\n",
    "    for i in range(1, numero-1):\n",
    "        f1,f2=f2,f1+f2    \n",
    "    return f2\n",
    "\n",
    "fibonacci_iterativo_v2(8)"
   ]
  },
  {
   "cell_type": "code",
   "execution_count": 7,
   "metadata": {},
   "outputs": [],
   "source": [
    "#Implementación de Fibonacci recursiva:\n",
    "def fibonacci_recursivo(numero):\n",
    "    if numero ==1:    #Caso base\n",
    "        return 0\n",
    "    if numero==2 or numero==3:\n",
    "        return 1\n",
    "    return fibonacci_recursivo(numero-1)+fibonacci_recursivo(numero-2) #Recursividad"
   ]
  },
  {
   "cell_type": "code",
   "execution_count": 8,
   "metadata": {},
   "outputs": [
    {
     "data": {
      "text/plain": [
       "13"
      ]
     },
     "execution_count": 8,
     "metadata": {},
     "output_type": "execute_result"
    }
   ],
   "source": [
    "fibonacci_recursivo(8)"
   ]
  },
  {
   "cell_type": "code",
   "execution_count": 12,
   "metadata": {},
   "outputs": [],
   "source": [
    "#Memoria inicial\n",
    "memoria={1:0,2:1,3:1}"
   ]
  },
  {
   "cell_type": "code",
   "execution_count": 13,
   "metadata": {},
   "outputs": [],
   "source": [
    "def fibonacci_memo(numero):\n",
    "    if numero in memoria:    #Si el número ya está calculado, se regresa el valor y detiene los cálculos.\n",
    "        return memoria[numero]\n",
    "    memoria[numero]=fibonacci_memo(numero-1)+fibonacci_memo(numero-2)\n",
    "    return memoria[numero]"
   ]
  },
  {
   "cell_type": "code",
   "execution_count": 14,
   "metadata": {},
   "outputs": [
    {
     "data": {
      "text/plain": [
       "13"
      ]
     },
     "execution_count": 14,
     "metadata": {},
     "output_type": "execute_result"
    }
   ],
   "source": [
    "fibonacci_memo(8)"
   ]
  },
  {
   "cell_type": "code",
   "execution_count": null,
   "metadata": {},
   "outputs": [],
   "source": []
  }
 ],
 "metadata": {
  "kernelspec": {
   "display_name": "Python 3",
   "language": "python",
   "name": "python3"
  },
  "language_info": {
   "codemirror_mode": {
    "name": "ipython",
    "version": 3
   },
   "file_extension": ".py",
   "mimetype": "text/x-python",
   "name": "python",
   "nbconvert_exporter": "python",
   "pygments_lexer": "ipython3",
   "version": "3.7.7"
  }
 },
 "nbformat": 4,
 "nbformat_minor": 4
}
